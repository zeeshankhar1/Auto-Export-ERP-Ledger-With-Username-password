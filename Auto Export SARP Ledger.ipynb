{
 "cells": [
  {
   "cell_type": "markdown",
   "id": "dda50dd8",
   "metadata": {},
   "source": [
    "# AutoExportSARP_POSTED_COA_With_LOGIN_PASSWORD"
   ]
  },
  {
   "cell_type": "code",
   "execution_count": 2,
   "id": "dadd0c9d",
   "metadata": {},
   "outputs": [
    {
     "ename": "IndexError",
     "evalue": "list index out of range",
     "output_type": "error",
     "traceback": [
      "\u001b[1;31m---------------------------------------------------------------------------\u001b[0m",
      "\u001b[1;31mIndexError\u001b[0m                                Traceback (most recent call last)",
      "\u001b[1;32m~\\AppData\\Local\\Temp\\ipykernel_5280\\3360572721.py\u001b[0m in \u001b[0;36m<module>\u001b[1;34m\u001b[0m\n\u001b[0;32m     82\u001b[0m \u001b[1;33m\u001b[0m\u001b[0m\n\u001b[0;32m     83\u001b[0m \u001b[0mtime\u001b[0m\u001b[1;33m.\u001b[0m\u001b[0msleep\u001b[0m\u001b[1;33m(\u001b[0m\u001b[1;36m10\u001b[0m\u001b[1;33m)\u001b[0m\u001b[1;33m\u001b[0m\u001b[1;33m\u001b[0m\u001b[0m\n\u001b[1;32m---> 84\u001b[1;33m \u001b[0mgw\u001b[0m\u001b[1;33m.\u001b[0m\u001b[0mgetWindowsWithTitle\u001b[0m\u001b[1;33m(\u001b[0m\u001b[1;34m\"Export Report\"\u001b[0m\u001b[1;33m)\u001b[0m\u001b[1;33m[\u001b[0m\u001b[1;36m0\u001b[0m\u001b[1;33m]\u001b[0m\u001b[1;33m.\u001b[0m\u001b[0mactivate\u001b[0m\u001b[1;33m(\u001b[0m\u001b[1;33m)\u001b[0m \u001b[1;31m# last msg box of export completionbee\u001b[0m\u001b[1;33m\u001b[0m\u001b[1;33m\u001b[0m\u001b[0m\n\u001b[0m\u001b[0;32m     85\u001b[0m \u001b[0mpyautogui\u001b[0m\u001b[1;33m.\u001b[0m\u001b[0mpress\u001b[0m\u001b[1;33m(\u001b[0m\u001b[1;34m\"enter\"\u001b[0m\u001b[1;33m)\u001b[0m\u001b[1;33m\u001b[0m\u001b[1;33m\u001b[0m\u001b[0m\n",
      "\u001b[1;31mIndexError\u001b[0m: list index out of range"
     ]
    }
   ],
   "source": [
    "import subprocess\n",
    "import time\n",
    "import datetime\n",
    "import pyautogui\n",
    "import pygetwindow as gw\n",
    "import os\n",
    "\n",
    "# Define the path to the program\n",
    "program_path = r\"\\\\192.168.10.5\\erp_efp\\SARP.exe\"\n",
    "\n",
    "# Open the program\n",
    "subprocess.Popen(program_path)\n",
    "\n",
    "# Wait for the program to respond (adjust the sleep time if needed)\n",
    "time.sleep(7)\n",
    "\n",
    "# Write the username and password\n",
    "username = \"zeeshan\"\n",
    "password = \"258\"\n",
    "\n",
    "# Assuming the program window is active, we can send keystrokes using pyautogui\n",
    "pyautogui.write(username)\n",
    "pyautogui.press(\"tab\")  # Move to the password field\n",
    "pyautogui.write(password)\n",
    "pyautogui.press(\"enter\")  # Submit the credentials\n",
    "time.sleep(7)  # Wait for the program to load\n",
    "pyautogui.press(\"enter\", presses=3)\n",
    "\n",
    "                                 \n",
    "time.sleep(7)  # Within the sarp again wait for location window to load first dialogbox\n",
    "pyautogui.press(\"enter\", presses=3)\n",
    "\n",
    "time.sleep(7)  # Wait again to get main home page of sarp\n",
    "pyautogui.press(\"tab\",presses=3)  # Move GL\n",
    "pyautogui.press(\"enter\")\n",
    "\n",
    "time.sleep(2)  # Wait agan before clicking ghe GL tab\n",
    "pyautogui.press(\"tab\",presses=7)  # Nevegate to  Report \n",
    "pyautogui.press(\"enter\")\n",
    "\n",
    "pyautogui.press(\"tab\",presses=1)  # Nevegate to  Ledger \n",
    "pyautogui.press(\"enter\")\n",
    "\n",
    "time.sleep(8)  # to load the Ledger Report window to load\n",
    "\n",
    "pyautogui.press(\"down\",presses=2)  # just to activate the unit section of above window\n",
    "\n",
    "time.sleep(2)  # just to slow down speed\n",
    "pyautogui.press(\"tab\",presses=1)  # Nevegate to  sites section  \n",
    "\n",
    "pyautogui.click(1053,163) # click to unselect all  ALL units\n",
    "pyautogui.click(1053,229)  # click EFP unit\n",
    "pyautogui.click(1297,163)  # clidk on ALL LOCATIONS\n",
    "pyautogui.click(1242,360)   # Click Portrait button\n",
    "pyautogui.click(1516,465)   # click print button\n",
    "\n",
    "\n",
    "time.sleep(20)  # Wait for the RPT file to give result\n",
    "gw.getWindowsWithTitle(\"GlLedgerPortrat\")[0].activate() # Find the window by its title\n",
    "pyautogui.hotkey(\"shift\", \"tab\")  # go to download button\n",
    "pyautogui.press('enter')\n",
    "\n",
    "time.sleep(5)# to get export dialogbox\n",
    "\n",
    "# export the ledger and save it in the specific folder\n",
    "Save_Folder_Path = 'D:\\OneDrive - Roleg Technologies\\SARP & Other Reports\\GL\\Auto GL Daily Export'\n",
    "if not os.path.exists(Save_Folder_Path): os.makedirs(Save_Folder_Path)  # create a folder if it already does not exist\n",
    "\n",
    "File_name = datetime.datetime.now().strftime(\"%Y-%m-%d\")+ \" (EFP)  Todate Full COA_ \" + datetime.datetime.now().strftime(\"%H %M %S\") # file name with current date time\n",
    "\n",
    "directory_path = os.path.join(Save_Folder_Path, File_name)\n",
    "\n",
    "\n",
    "\n",
    "gw.getWindowsWithTitle(\"Export Report\")[0].activate() # Find the window by its title\n",
    "pyautogui.hotkey(\"alt\", \"n\")\n",
    "pyautogui.typewrite(directory_path) # name of file is typed in it\n",
    "pyautogui.hotkey(\"alt\" , \"t\")\n",
    "pyautogui.press(\"down\", presses=4)  # select excel only .It is present at 4th number in the list\n",
    "pyautogui.press(\"tab\",presses=1) # \n",
    "pyautogui.hotkey(\"alt\", \"s\") # to click the save buttion\n",
    "\n",
    "time.sleep(10) \n",
    "gw.getWindowsWithTitle(\"Export Report\")[0].activate() # last msg box of export completionbee\n",
    "pyautogui.press(\"enter\")"
   ]
  },
  {
   "cell_type": "markdown",
   "id": "2ba999d1",
   "metadata": {},
   "source": [
    "# AutoExportSARP_UNPOSTED_COA_With_LOGIN_PASSWORD"
   ]
  },
  {
   "cell_type": "code",
   "execution_count": 2,
   "id": "0604539d",
   "metadata": {
    "scrolled": true
   },
   "outputs": [
    {
     "ename": "KeyboardInterrupt",
     "evalue": "",
     "output_type": "error",
     "traceback": [
      "\u001b[1;31m---------------------------------------------------------------------------\u001b[0m",
      "\u001b[1;31mKeyboardInterrupt\u001b[0m                         Traceback (most recent call last)",
      "\u001b[1;32m~\\AppData\\Local\\Temp\\ipykernel_11844\\1379189445.py\u001b[0m in \u001b[0;36m<module>\u001b[1;34m\u001b[0m\n\u001b[0;32m     50\u001b[0m \u001b[1;33m\u001b[0m\u001b[0m\n\u001b[0;32m     51\u001b[0m \u001b[1;33m\u001b[0m\u001b[0m\n\u001b[1;32m---> 52\u001b[1;33m \u001b[0mtime\u001b[0m\u001b[1;33m.\u001b[0m\u001b[0msleep\u001b[0m\u001b[1;33m(\u001b[0m\u001b[1;36m20\u001b[0m\u001b[1;33m)\u001b[0m  \u001b[1;31m# Wait for the RPT file to give result\u001b[0m\u001b[1;33m\u001b[0m\u001b[1;33m\u001b[0m\u001b[0m\n\u001b[0m\u001b[0;32m     53\u001b[0m \u001b[0mgw\u001b[0m\u001b[1;33m.\u001b[0m\u001b[0mgetWindowsWithTitle\u001b[0m\u001b[1;33m(\u001b[0m\u001b[1;34m\"GlLedger_Unposted\"\u001b[0m\u001b[1;33m)\u001b[0m\u001b[1;33m[\u001b[0m\u001b[1;36m0\u001b[0m\u001b[1;33m]\u001b[0m\u001b[1;33m.\u001b[0m\u001b[0mactivate\u001b[0m\u001b[1;33m(\u001b[0m\u001b[1;33m)\u001b[0m \u001b[1;31m# Find the window by its title\u001b[0m\u001b[1;33m\u001b[0m\u001b[1;33m\u001b[0m\u001b[0m\n\u001b[0;32m     54\u001b[0m \u001b[0mpyautogui\u001b[0m\u001b[1;33m.\u001b[0m\u001b[0mhotkey\u001b[0m\u001b[1;33m(\u001b[0m\u001b[1;34m\"shift\"\u001b[0m\u001b[1;33m,\u001b[0m \u001b[1;34m\"tab\"\u001b[0m\u001b[1;33m)\u001b[0m  \u001b[1;31m# go to download button\u001b[0m\u001b[1;33m\u001b[0m\u001b[1;33m\u001b[0m\u001b[0m\n",
      "\u001b[1;31mKeyboardInterrupt\u001b[0m: "
     ]
    }
   ],
   "source": [
    "import subprocess\n",
    "import time\n",
    "import datetime\n",
    "import pyautogui\n",
    "import pygetwindow as gw\n",
    "import os\n",
    "\n",
    "# Define the path to the program\n",
    "program_path = r\"\\\\192.168.10.5\\erp_efp\\SARP.exe\"\n",
    "\n",
    "# Open the program\n",
    "subprocess.Popen(program_path)\n",
    "\n",
    "# Wait for the program to respond (adjust the sleep time if needed)\n",
    "time.sleep(7)\n",
    "\n",
    "# Write the username and password\n",
    "username = \"zeeshan\"\n",
    "password = \"258\"\n",
    "\n",
    "# Assuming the program window is active, we can send keystrokes using pyautogui\n",
    "pyautogui.write(username)\n",
    "pyautogui.press(\"tab\")  # Move to the password field\n",
    "pyautogui.write(password)\n",
    "pyautogui.press(\"enter\")  # Submit the credentials\n",
    "time.sleep(7)  # Wait for the program to load\n",
    "pyautogui.press(\"enter\", presses=3)\n",
    "\n",
    "                                 \n",
    "time.sleep(7)  # Within the sarp again wait for location window to load first dialogbox\n",
    "pyautogui.press(\"enter\", presses=3)\n",
    "\n",
    "time.sleep(7)  # Wait again to get main home page of sarp\n",
    "pyautogui.press(\"tab\",presses=3)  # Move GL\n",
    "pyautogui.press(\"enter\")\n",
    "\n",
    "pyautogui.press(\"tab\",presses=8)  # Nevegate to  Accounts Report \n",
    "pyautogui.press(\"enter\")          # Open List of Account Report\n",
    "pyautogui.press(\"enter\")          # OPEN GL LEDGER REPORT . available on 1st serial\n",
    "\n",
    "time.sleep(3)  # Wait for the report window to open\n",
    "pyautogui.press(\"tab\",presses=4)  # Nevegate locations \n",
    "pyautogui.press(\"down\",presses=6)  # goto EFP-H\n",
    "pyautogui.press(\"space\",presses=1)  # select EFP-H\n",
    "pyautogui.press(\"down\",presses=5)  # goto EFP-K\n",
    "pyautogui.press(\"space\",presses=1)  # select EFP-K\n",
    "\n",
    "pyautogui.press(\"tab\",presses=14)  # Nevegate to print button \n",
    "pyautogui.press(\"enter\",presses=1)  # click button to vew report \n",
    "\n",
    "\n",
    "time.sleep(20)  # Wait for the RPT file to give result\n",
    "gw.getWindowsWithTitle(\"GlLedger_Unposted\")[0].activate() # Find the window by its title\n",
    "pyautogui.hotkey(\"shift\", \"tab\")  # go to download button\n",
    "pyautogui.press('enter')\n",
    "time.sleep(2)\n",
    "\n",
    "# export the ledger and save it in the specific folder\n",
    "Save_Folder_Path = 'D:\\OneDrive - Roleg Technologies\\SARP & Other Reports\\GL\\Auto GL Daily Export'\n",
    "if not os.path.exists(Save_Folder_Path): os.makedirs(Save_Folder_Path)\n",
    "\n",
    "File_name = datetime.datetime.now().strftime(\"%Y-%m-%d\")+ \" (EFP-up)  Todate Full COA_ \" + datetime.datetime.now().strftime(\"%H %M %S\") # file name with current date time\n",
    "\n",
    "directory_path = os.path.join(Save_Folder_Path, File_name)\n",
    "\n",
    "\n",
    "\n",
    "gw.getWindowsWithTitle(\"Export Report\")[0].activate() # Find the window by its title\n",
    "pyautogui.hotkey(\"alt\", \"n\")\n",
    "pyautogui.typewrite(directory_path) # name of file is typed in it\n",
    "pyautogui.hotkey(\"alt\" , \"t\")\n",
    "pyautogui.press(\"down\", presses=4)\n",
    "pyautogui.press(\"tab\",presses=1) # \n",
    "pyautogui.hotkey(\"alt\", \"s\")\n",
    "\n",
    "time.sleep(10)\n",
    "gw.getWindowsWithTitle(\"Export Report\")[0].activate() # last msg box of export completionbee\n",
    "pyautogui.press(\"enter\")"
   ]
  },
  {
   "cell_type": "code",
   "execution_count": 16,
   "id": "c78b266d",
   "metadata": {},
   "outputs": [],
   "source": [
    "gw.getWindowsWithTitle(\"GlLedgerPortrat\")[0].activate() # Find the window by its title\n"
   ]
  },
  {
   "cell_type": "code",
   "execution_count": 13,
   "id": "405a1f76",
   "metadata": {},
   "outputs": [
    {
     "name": "stdout",
     "output_type": "stream",
     "text": [
      "1516\n",
      "465\n"
     ]
    },
    {
     "ename": "TypeError",
     "evalue": "bad operand type for unary +: 'NoneType'",
     "output_type": "error",
     "traceback": [
      "\u001b[1;31m---------------------------------------------------------------------------\u001b[0m",
      "\u001b[1;31mTypeError\u001b[0m                                 Traceback (most recent call last)",
      "\u001b[1;32m~\\AppData\\Local\\Temp\\ipykernel_12916\\4291058944.py\u001b[0m in \u001b[0;36m<module>\u001b[1;34m\u001b[0m\n\u001b[0;32m      1\u001b[0m \u001b[0mx\u001b[0m\u001b[1;33m,\u001b[0m\u001b[0my\u001b[0m\u001b[1;33m=\u001b[0m \u001b[0mpyautogui\u001b[0m\u001b[1;33m.\u001b[0m\u001b[0mposition\u001b[0m\u001b[1;33m(\u001b[0m\u001b[1;33m)\u001b[0m\u001b[1;33m\u001b[0m\u001b[1;33m\u001b[0m\u001b[0m\n\u001b[1;32m----> 2\u001b[1;33m \u001b[0mprint\u001b[0m\u001b[1;33m(\u001b[0m\u001b[0mx\u001b[0m\u001b[1;33m)\u001b[0m \u001b[1;33m+\u001b[0m \u001b[1;33m+\u001b[0m \u001b[0mprint\u001b[0m\u001b[1;33m(\u001b[0m\u001b[0my\u001b[0m\u001b[1;33m)\u001b[0m\u001b[1;33m\u001b[0m\u001b[1;33m\u001b[0m\u001b[0m\n\u001b[0m",
      "\u001b[1;31mTypeError\u001b[0m: bad operand type for unary +: 'NoneType'"
     ]
    }
   ],
   "source": [
    "x,y= pyautogui.position()\n",
    "print(x) + + print(y)"
   ]
  },
  {
   "cell_type": "code",
   "execution_count": 8,
   "id": "3c3265c4",
   "metadata": {},
   "outputs": [],
   "source": [
    "#pyautogui.move(1053,163)\n",
    "pyautogui.click(1053,163)\n"
   ]
  },
  {
   "cell_type": "code",
   "execution_count": 9,
   "id": "a0c1268c",
   "metadata": {},
   "outputs": [
    {
     "name": "stdout",
     "output_type": "stream",
     "text": [
      "1053\n",
      "229\n"
     ]
    },
    {
     "ename": "TypeError",
     "evalue": "bad operand type for unary +: 'NoneType'",
     "output_type": "error",
     "traceback": [
      "\u001b[1;31m---------------------------------------------------------------------------\u001b[0m",
      "\u001b[1;31mTypeError\u001b[0m                                 Traceback (most recent call last)",
      "\u001b[1;32m~\\AppData\\Local\\Temp\\ipykernel_12916\\1119782012.py\u001b[0m in \u001b[0;36m<module>\u001b[1;34m\u001b[0m\n\u001b[0;32m      1\u001b[0m \u001b[1;31m# print Current position of mouse\u001b[0m\u001b[1;33m\u001b[0m\u001b[1;33m\u001b[0m\u001b[0m\n\u001b[0;32m      2\u001b[0m \u001b[0mx\u001b[0m\u001b[1;33m,\u001b[0m\u001b[0my\u001b[0m\u001b[1;33m=\u001b[0m \u001b[0mpyautogui\u001b[0m\u001b[1;33m.\u001b[0m\u001b[0mposition\u001b[0m\u001b[1;33m(\u001b[0m\u001b[1;33m)\u001b[0m\u001b[1;33m\u001b[0m\u001b[1;33m\u001b[0m\u001b[0m\n\u001b[1;32m----> 3\u001b[1;33m \u001b[0mprint\u001b[0m\u001b[1;33m(\u001b[0m\u001b[0mx\u001b[0m\u001b[1;33m)\u001b[0m \u001b[1;33m+\u001b[0m \u001b[1;33m+\u001b[0m \u001b[0mprint\u001b[0m\u001b[1;33m(\u001b[0m\u001b[0my\u001b[0m\u001b[1;33m)\u001b[0m\u001b[1;33m\u001b[0m\u001b[1;33m\u001b[0m\u001b[0m\n\u001b[0m\u001b[0;32m      4\u001b[0m \u001b[1;33m\u001b[0m\u001b[0m\n",
      "\u001b[1;31mTypeError\u001b[0m: bad operand type for unary +: 'NoneType'"
     ]
    }
   ],
   "source": [
    "# print Current position of mouse\n",
    "x,y= pyautogui.position()\n",
    "print(x) + + print(y)\n",
    "    \n"
   ]
  },
  {
   "cell_type": "code",
   "execution_count": 6,
   "id": "304b90ce",
   "metadata": {},
   "outputs": [],
   "source": [
    "# move mouse\n",
    "pyautogui.mouseDown(1053,163)"
   ]
  },
  {
   "cell_type": "code",
   "execution_count": 128,
   "id": "3c453ecf",
   "metadata": {},
   "outputs": [
    {
     "data": {
      "text/plain": [
       "'D:\\\\OneDrive - Roleg Technologies\\\\SARP & Other Reports\\\\GL\\\\Auto GL Daily Export\\\\Ledger as on 2023-06-26 15 56 39'"
      ]
     },
     "execution_count": 128,
     "metadata": {},
     "output_type": "execute_result"
    }
   ],
   "source": [
    "\n",
    "\n",
    "Save_Folder_Path = 'D:\\OneDrive - Roleg Technologies\\SARP & Other Reports\\GL\\Auto GL Daily Export'\n",
    "\n",
    "if not os.path.exists(Save_Folder_Path): os.makedirs(Save_Folder_Path)\n",
    "\n",
    "directory_path = os.path.join(directory, File_name_with_current_datetime)\n",
    "\n",
    "\n",
    "directory_path"
   ]
  },
  {
   "cell_type": "code",
   "execution_count": 123,
   "id": "778ef6f7",
   "metadata": {},
   "outputs": [
    {
     "data": {
      "text/plain": [
       "'D:\\\\OneDrive - Roleg Technologies\\\\SARP & Other Reports\\\\GL\\\\Auto GL Daily Export\\\\Ledger as on 2023-06-26 15 56 39'"
      ]
     },
     "execution_count": 123,
     "metadata": {},
     "output_type": "execute_result"
    }
   ],
   "source": [
    "directory_path = os.path.join(directory, File_name_with_current_datetime)\n",
    "directory_path"
   ]
  }
 ],
 "metadata": {
  "kernelspec": {
   "display_name": "Python 3 (ipykernel)",
   "language": "python",
   "name": "python3"
  },
  "language_info": {
   "codemirror_mode": {
    "name": "ipython",
    "version": 3
   },
   "file_extension": ".py",
   "mimetype": "text/x-python",
   "name": "python",
   "nbconvert_exporter": "python",
   "pygments_lexer": "ipython3",
   "version": "3.9.13"
  }
 },
 "nbformat": 4,
 "nbformat_minor": 5
}
